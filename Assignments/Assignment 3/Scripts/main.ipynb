{
 "cells": [
  {
   "cell_type": "markdown",
   "id": "e8cd76c6",
   "metadata": {},
   "source": [
    "Assignment 3 \n",
    "This document is the last thing I did and I'm running out of time. To be honest, the algotithm_comparison.py (yes, a typo) file will work better, I just want the space to go through my steps and justify some choices.\n",
    "\n",
    "Note: the report is 6 pages BUT 3 of those pages are figures and references. So technically it fit in 3 pages limit. (Please)\n",
    "\n",
    "Steps:\n",
    "1. loading libraries\n",
    "2. creating datasets\n",
    "3. datasets preview\n",
    "4. dbscan visualisation\n",
    "5. k-means visualisations\n",
    "6. agglomerative visualisations\n",
    "\n",
    "AI was used for: coloring schemes - it had some crazy ideas; I had issues with visualizing outliers in dbscan blobs, I asked for suggestions; readme scheme and clean-up.\n",
    "\n",
    "I used 2-3 websites that showed the sample code for all clustering types and visualization. They are in the reference section in the report."
   ]
  },
  {
   "cell_type": "code",
   "execution_count": null,
   "id": "c626d176",
   "metadata": {},
   "outputs": [],
   "source": [
    "### import the importables ###\n",
    "from sklearn.cluster import DBSCAN, KMeans, AgglomerativeClustering\n",
    "from sklearn.datasets import make_moons, make_blobs, make_circles\n",
    "import matplotlib.pyplot as plt"
   ]
  },
  {
   "cell_type": "markdown",
   "id": "ad8753a7",
   "metadata": {},
   "source": [
    "I created the datasets based on the criteria: moons, blobs and circles.\n",
    "\n",
    "I defined a function for visualizing the datasets as they are to see what I'm working with. I thought I could use one defined function to visualise everything but it turned out to be easier to make each plot. but i used that function to visualise the datasets."
   ]
  },
  {
   "cell_type": "code",
   "execution_count": null,
   "id": "4bb7c623",
   "metadata": {},
   "outputs": [],
   "source": [
    "### preview datasets ###\n",
    "# make the dataset\n",
    "X_moons, _ = make_moons(n_samples=300, noise=0.05, random_state=42)\n",
    "X_blobs, _ = make_blobs(n_samples=300, centers=3, cluster_std=[1.0, 2.5, 0.5], random_state=42)\n",
    "X_circles, _ = make_circles(n_samples=300, factor=0.5, noise=0.05, random_state=42)\n",
    "\n",
    "# define the function to plot the set\n",
    "def subplot(no, X, title):\n",
    "    axs[no].scatter(X[:,0], X[:, 1], c='black')\n",
    "    axs[no].set_title(title)\n",
    "    axs[no].set_xticks([])\n",
    "    axs[no].set_yticks([])\n",
    "\n",
    "# make a plot with all 3 datasets\n",
    "fig, axs = plt.subplots(1, 3, figsize=(15, 4))\n",
    "subplot(0,X_moons, \"make_moons\")\n",
    "subplot(1,X_blobs, \"make_blobs\")\n",
    "subplot(2,X_circles, \"make_circles\")\n",
    "\n",
    "plt.tight_layout()\n",
    "plt.show()"
   ]
  },
  {
   "cell_type": "markdown",
   "id": "c2234b0a",
   "metadata": {},
   "source": [
    "DBSCAN\n",
    "\n",
    "I changed the parameters quite a bit. The parameters below are the ones that work the best (imo). \n",
    "\n",
    "Small changes in eps give huge results. Ex. For make_moons is nicely separated at 0.3, at 0.5 the whole dataset is considered a cluster. for make_circles eps = 0.2 nicely separated the clusters, 0.3 gave one cluster. I played around with min_samples too but with less fun results.\n",
    "Anywho. I didn't know how to label axis as this is a made up dataset and I didn't want to label \"x\" and \"y\" so i left the labels off, but the scale is there."
   ]
  },
  {
   "cell_type": "code",
   "execution_count": null,
   "id": "251b6ee2",
   "metadata": {},
   "outputs": [],
   "source": [
    "## dbscan\n",
    "dbscan_moons = DBSCAN(eps=0.3, min_samples=5).fit_predict(X_moons)\n",
    "dbscan_blobs = DBSCAN(eps=1, min_samples=5).fit_predict(X_blobs)\n",
    "dbscan_circles = DBSCAN(eps=0.2, min_samples=3).fit_predict(X_circles)\n",
    "\n",
    "# dbscan moons\n",
    "plt.figure(figsize=(8, 6))\n",
    "plt.scatter(X_moons[:, 0], X_moons[:, 1], c=dbscan_moons, cmap = 'coolwarm')\n",
    "plt.title('DBSCAN make_moons')\n",
    "plt.show()\n",
    "\n",
    "# dbscan blobs\n",
    "mask = dbscan_blobs != -1\n",
    "# Plot clustered points\n",
    "plt.scatter(X_blobs[mask, 0], X_blobs[mask, 1], c=dbscan_blobs[mask], cmap='coolwarm', label='Clusters')\n",
    "# Plot outliers\n",
    "plt.scatter(X_blobs[~mask, 0], X_blobs[~mask, 1], c='black', label='Outliers', marker='x')\n",
    "plt.legend()\n",
    "plt.title(\"DBSCAN on make_blobs\")\n",
    "plt.show()"
   ]
  },
  {
   "cell_type": "markdown",
   "id": "464a951b",
   "metadata": {},
   "source": [
    "Both k-measn and Agglomerative clustering followed the same scheme. I used the dataset preview to define the number of clusters I wanted. Other than that, I just did the same thing twice. "
   ]
  },
  {
   "cell_type": "code",
   "execution_count": null,
   "id": "0e067d00",
   "metadata": {},
   "outputs": [],
   "source": [
    "## k-means\n",
    "\n",
    "kmeans_moons = KMeans(n_clusters=2, random_state=42).fit_predict(X_moons)\n",
    "kmeans_blobs = KMeans(n_clusters=3, random_state=42).fit_predict(X_blobs)\n",
    "kmeans_circles = KMeans(n_clusters=2, random_state=42).fit_predict(X_circles)\n",
    "\n",
    "# kmeans moons\n",
    "plt.figure(figsize=(8, 6))\n",
    "plt.scatter(X_moons[:, 0], X_moons[:, 1], c=kmeans_moons, cmap = 'coolwarm')\n",
    "plt.title('k-Means make_moons')\n",
    "plt.show()\n",
    "\n",
    "# kmeans blobs\n",
    "plt.figure(figsize=(8, 6))\n",
    "plt.scatter(X_blobs[:, 0], X_blobs[:, 1], c=kmeans_blobs, cmap = 'tab10')\n",
    "plt.title('k-Means make_blobs')\n",
    "plt.show()\n",
    "\n",
    "# kmeans circles\n",
    "plt.figure(figsize=(8, 6))\n",
    "plt.scatter(X_circles[:, 0], X_circles[:, 1], c=kmeans_circles, cmap = 'coolwarm')\n",
    "plt.title('k-Means make_circles')\n",
    "plt.show()\n",
    "\n",
    "\n",
    "## agglomerative clustering\n",
    "\n",
    "agglo_moons = AgglomerativeClustering(n_clusters=2).fit_predict(X_moons)\n",
    "agglo_blobs = AgglomerativeClustering(n_clusters=3).fit_predict(X_blobs)\n",
    "agglo_circles = AgglomerativeClustering(n_clusters=2).fit_predict(X_circles)\n",
    "\n",
    "# agglomerative moons\n",
    "plt.figure(figsize=(8, 6))\n",
    "plt.scatter(X_moons[:, 0], X_moons[:, 1], c=agglo_moons, cmap = 'coolwarm')\n",
    "plt.title('Agglomerative make_moons')\n",
    "plt.show()\n",
    "\n",
    "# agglomerative blobs\n",
    "plt.figure(figsize=(8, 6))\n",
    "plt.scatter(X_blobs[:, 0], X_blobs[:, 1], c=agglo_blobs, cmap = 'coolwarm')\n",
    "plt.title('Agglomerative make_blobs')\n",
    "plt.show()\n",
    "\n",
    "# agglomerative circles\n",
    "plt.figure(figsize=(8, 6))\n",
    "plt.scatter(X_circles[:, 0], X_circles[:, 1], c=agglo_circles, cmap = 'coolwarm')\n",
    "plt.title('Agglomerative make_circles')\n",
    "plt.show()"
   ]
  }
 ],
 "metadata": {
  "kernelspec": {
   "display_name": "Python 3",
   "language": "python",
   "name": "python3"
  },
  "language_info": {
   "name": "python",
   "version": "3.12.4"
  }
 },
 "nbformat": 4,
 "nbformat_minor": 5
}
